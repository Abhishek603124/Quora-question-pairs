{
 "cells": [
  {
   "cell_type": "code",
   "execution_count": 1,
   "id": "d662fe24",
   "metadata": {
    "_cell_guid": "b1076dfc-b9ad-4769-8c92-a6c4dae69d19",
    "_uuid": "8f2839f25d086af736a60e9eeb907d3b93b6e0e5",
    "execution": {
     "iopub.execute_input": "2025-05-16T10:49:23.966556Z",
     "iopub.status.busy": "2025-05-16T10:49:23.966177Z",
     "iopub.status.idle": "2025-05-16T10:49:25.090374Z",
     "shell.execute_reply": "2025-05-16T10:49:25.089079Z"
    },
    "papermill": {
     "duration": 1.138669,
     "end_time": "2025-05-16T10:49:25.092186",
     "exception": false,
     "start_time": "2025-05-16T10:49:23.953517",
     "status": "completed"
    },
    "tags": []
   },
   "outputs": [
    {
     "name": "stdout",
     "output_type": "stream",
     "text": [
      "/kaggle/input/question-pairs-dataset/questions.csv\n"
     ]
    }
   ],
   "source": [
    "# This Python 3 environment comes with many helpful analytics libraries installed\n",
    "# It is defined by the kaggle/python Docker image: https://github.com/kaggle/docker-python\n",
    "# For example, here's several helpful packages to load\n",
    "\n",
    "import numpy as np # linear algebra\n",
    "import pandas as pd # data processing, CSV file I/O (e.g. pd.read_csv)\n",
    "\n",
    "# Input data files are available in the read-only \"../input/\" directory\n",
    "# For example, running this (by clicking run or pressing Shift+Enter) will list all files under the input directory\n",
    "\n",
    "import os\n",
    "for dirname, _, filenames in os.walk('/kaggle/input'):\n",
    "    for filename in filenames:\n",
    "        print(os.path.join(dirname, filename))\n",
    "\n",
    "# You can write up to 20GB to the current directory (/kaggle/working/) that gets preserved as output when you create a version using \"Save & Run All\" \n",
    "# You can also write temporary files to /kaggle/temp/, but they won't be saved outside of the current session"
   ]
  },
  {
   "cell_type": "code",
   "execution_count": 2,
   "id": "0d7ac913",
   "metadata": {
    "execution": {
     "iopub.execute_input": "2025-05-16T10:49:25.107566Z",
     "iopub.status.busy": "2025-05-16T10:49:25.107055Z",
     "iopub.status.idle": "2025-05-16T10:49:27.705636Z",
     "shell.execute_reply": "2025-05-16T10:49:27.704689Z"
    },
    "papermill": {
     "duration": 2.608322,
     "end_time": "2025-05-16T10:49:27.707689",
     "exception": false,
     "start_time": "2025-05-16T10:49:25.099367",
     "status": "completed"
    },
    "tags": []
   },
   "outputs": [],
   "source": [
    "df = pd.read_csv('/kaggle/input/question-pairs-dataset/questions.csv')"
   ]
  },
  {
   "cell_type": "code",
   "execution_count": 3,
   "id": "f3ead868",
   "metadata": {
    "execution": {
     "iopub.execute_input": "2025-05-16T10:49:27.722658Z",
     "iopub.status.busy": "2025-05-16T10:49:27.722244Z",
     "iopub.status.idle": "2025-05-16T10:49:27.750633Z",
     "shell.execute_reply": "2025-05-16T10:49:27.749643Z"
    },
    "papermill": {
     "duration": 0.037593,
     "end_time": "2025-05-16T10:49:27.752314",
     "exception": false,
     "start_time": "2025-05-16T10:49:27.714721",
     "status": "completed"
    },
    "tags": []
   },
   "outputs": [
    {
     "data": {
      "text/html": [
       "<div>\n",
       "<style scoped>\n",
       "    .dataframe tbody tr th:only-of-type {\n",
       "        vertical-align: middle;\n",
       "    }\n",
       "\n",
       "    .dataframe tbody tr th {\n",
       "        vertical-align: top;\n",
       "    }\n",
       "\n",
       "    .dataframe thead th {\n",
       "        text-align: right;\n",
       "    }\n",
       "</style>\n",
       "<table border=\"1\" class=\"dataframe\">\n",
       "  <thead>\n",
       "    <tr style=\"text-align: right;\">\n",
       "      <th></th>\n",
       "      <th>id</th>\n",
       "      <th>qid1</th>\n",
       "      <th>qid2</th>\n",
       "      <th>question1</th>\n",
       "      <th>question2</th>\n",
       "      <th>is_duplicate</th>\n",
       "    </tr>\n",
       "  </thead>\n",
       "  <tbody>\n",
       "    <tr>\n",
       "      <th>0</th>\n",
       "      <td>0</td>\n",
       "      <td>1</td>\n",
       "      <td>2</td>\n",
       "      <td>What is the step by step guide to invest in sh...</td>\n",
       "      <td>What is the step by step guide to invest in sh...</td>\n",
       "      <td>0</td>\n",
       "    </tr>\n",
       "    <tr>\n",
       "      <th>1</th>\n",
       "      <td>1</td>\n",
       "      <td>3</td>\n",
       "      <td>4</td>\n",
       "      <td>What is the story of Kohinoor (Koh-i-Noor) Dia...</td>\n",
       "      <td>What would happen if the Indian government sto...</td>\n",
       "      <td>0</td>\n",
       "    </tr>\n",
       "    <tr>\n",
       "      <th>2</th>\n",
       "      <td>2</td>\n",
       "      <td>5</td>\n",
       "      <td>6</td>\n",
       "      <td>How can I increase the speed of my internet co...</td>\n",
       "      <td>How can Internet speed be increased by hacking...</td>\n",
       "      <td>0</td>\n",
       "    </tr>\n",
       "    <tr>\n",
       "      <th>3</th>\n",
       "      <td>3</td>\n",
       "      <td>7</td>\n",
       "      <td>8</td>\n",
       "      <td>Why am I mentally very lonely? How can I solve...</td>\n",
       "      <td>Find the remainder when [math]23^{24}[/math] i...</td>\n",
       "      <td>0</td>\n",
       "    </tr>\n",
       "    <tr>\n",
       "      <th>4</th>\n",
       "      <td>4</td>\n",
       "      <td>9</td>\n",
       "      <td>10</td>\n",
       "      <td>Which one dissolve in water quikly sugar, salt...</td>\n",
       "      <td>Which fish would survive in salt water?</td>\n",
       "      <td>0</td>\n",
       "    </tr>\n",
       "  </tbody>\n",
       "</table>\n",
       "</div>"
      ],
      "text/plain": [
       "   id  qid1  qid2                                          question1  \\\n",
       "0   0     1     2  What is the step by step guide to invest in sh...   \n",
       "1   1     3     4  What is the story of Kohinoor (Koh-i-Noor) Dia...   \n",
       "2   2     5     6  How can I increase the speed of my internet co...   \n",
       "3   3     7     8  Why am I mentally very lonely? How can I solve...   \n",
       "4   4     9    10  Which one dissolve in water quikly sugar, salt...   \n",
       "\n",
       "                                           question2  is_duplicate  \n",
       "0  What is the step by step guide to invest in sh...             0  \n",
       "1  What would happen if the Indian government sto...             0  \n",
       "2  How can Internet speed be increased by hacking...             0  \n",
       "3  Find the remainder when [math]23^{24}[/math] i...             0  \n",
       "4            Which fish would survive in salt water?             0  "
      ]
     },
     "execution_count": 3,
     "metadata": {},
     "output_type": "execute_result"
    }
   ],
   "source": [
    "df.head()"
   ]
  },
  {
   "cell_type": "code",
   "execution_count": 4,
   "id": "69b98b43",
   "metadata": {
    "execution": {
     "iopub.execute_input": "2025-05-16T10:49:27.767948Z",
     "iopub.status.busy": "2025-05-16T10:49:27.767567Z",
     "iopub.status.idle": "2025-05-16T10:49:30.168041Z",
     "shell.execute_reply": "2025-05-16T10:49:30.166964Z"
    },
    "papermill": {
     "duration": 2.410291,
     "end_time": "2025-05-16T10:49:30.170030",
     "exception": false,
     "start_time": "2025-05-16T10:49:27.759739",
     "status": "completed"
    },
    "tags": []
   },
   "outputs": [],
   "source": [
    "import numpy as np\n",
    "import pandas as pd\n",
    "import matplotlib.pyplot as plt\n",
    "import seaborn as sns\n",
    "import re\n",
    "from bs4 import BeautifulSoup\n",
    "\n",
    "import warnings\n",
    "warnings.filterwarnings('ignore')"
   ]
  },
  {
   "cell_type": "code",
   "execution_count": 5,
   "id": "2d001091",
   "metadata": {
    "execution": {
     "iopub.execute_input": "2025-05-16T10:49:30.185837Z",
     "iopub.status.busy": "2025-05-16T10:49:30.185239Z",
     "iopub.status.idle": "2025-05-16T10:49:30.280341Z",
     "shell.execute_reply": "2025-05-16T10:49:30.279080Z"
    },
    "papermill": {
     "duration": 0.104848,
     "end_time": "2025-05-16T10:49:30.282117",
     "exception": false,
     "start_time": "2025-05-16T10:49:30.177269",
     "status": "completed"
    },
    "tags": []
   },
   "outputs": [
    {
     "name": "stdout",
     "output_type": "stream",
     "text": [
      "<class 'pandas.core.frame.DataFrame'>\n",
      "RangeIndex: 404351 entries, 0 to 404350\n",
      "Data columns (total 6 columns):\n",
      " #   Column        Non-Null Count   Dtype \n",
      "---  ------        --------------   ----- \n",
      " 0   id            404351 non-null  int64 \n",
      " 1   qid1          404351 non-null  int64 \n",
      " 2   qid2          404351 non-null  int64 \n",
      " 3   question1     404350 non-null  object\n",
      " 4   question2     404349 non-null  object\n",
      " 5   is_duplicate  404351 non-null  int64 \n",
      "dtypes: int64(4), object(2)\n",
      "memory usage: 18.5+ MB\n"
     ]
    }
   ],
   "source": [
    "df.info()"
   ]
  },
  {
   "cell_type": "code",
   "execution_count": 6,
   "id": "0574513b",
   "metadata": {
    "execution": {
     "iopub.execute_input": "2025-05-16T10:49:30.297925Z",
     "iopub.status.busy": "2025-05-16T10:49:30.297547Z",
     "iopub.status.idle": "2025-05-16T10:49:30.667942Z",
     "shell.execute_reply": "2025-05-16T10:49:30.666760Z"
    },
    "papermill": {
     "duration": 0.380238,
     "end_time": "2025-05-16T10:49:30.669775",
     "exception": false,
     "start_time": "2025-05-16T10:49:30.289537",
     "status": "completed"
    },
    "tags": []
   },
   "outputs": [
    {
     "data": {
      "text/plain": [
       "0"
      ]
     },
     "execution_count": 6,
     "metadata": {},
     "output_type": "execute_result"
    }
   ],
   "source": [
    "df.duplicated().sum()"
   ]
  },
  {
   "cell_type": "code",
   "execution_count": 7,
   "id": "5758669b",
   "metadata": {
    "execution": {
     "iopub.execute_input": "2025-05-16T10:49:30.685900Z",
     "iopub.status.busy": "2025-05-16T10:49:30.685533Z",
     "iopub.status.idle": "2025-05-16T10:49:30.754303Z",
     "shell.execute_reply": "2025-05-16T10:49:30.753133Z"
    },
    "papermill": {
     "duration": 0.078757,
     "end_time": "2025-05-16T10:49:30.756069",
     "exception": false,
     "start_time": "2025-05-16T10:49:30.677312",
     "status": "completed"
    },
    "tags": []
   },
   "outputs": [
    {
     "data": {
      "text/plain": [
       "id              0\n",
       "qid1            0\n",
       "qid2            0\n",
       "question1       1\n",
       "question2       2\n",
       "is_duplicate    0\n",
       "dtype: int64"
      ]
     },
     "execution_count": 7,
     "metadata": {},
     "output_type": "execute_result"
    }
   ],
   "source": [
    "df.isnull().sum()"
   ]
  },
  {
   "cell_type": "code",
   "execution_count": 8,
   "id": "8c136d21",
   "metadata": {
    "execution": {
     "iopub.execute_input": "2025-05-16T10:49:30.772423Z",
     "iopub.status.busy": "2025-05-16T10:49:30.771965Z",
     "iopub.status.idle": "2025-05-16T10:49:31.118049Z",
     "shell.execute_reply": "2025-05-16T10:49:31.116858Z"
    },
    "papermill": {
     "duration": 0.356099,
     "end_time": "2025-05-16T10:49:31.119773",
     "exception": false,
     "start_time": "2025-05-16T10:49:30.763674",
     "status": "completed"
    },
    "tags": []
   },
   "outputs": [
    {
     "name": "stdout",
     "output_type": "stream",
     "text": [
      "is_duplicate\n",
      "0    255045\n",
      "1    149306\n",
      "Name: count, dtype: int64\n",
      "is_duplicate\n",
      "0    63.07515\n",
      "1    36.92485\n",
      "Name: count, dtype: float64\n"
     ]
    },
    {
     "data": {
      "text/plain": [
       "<Axes: xlabel='is_duplicate'>"
      ]
     },
     "execution_count": 8,
     "metadata": {},
     "output_type": "execute_result"
    },
    {
     "data": {
      "image/png": "[encoded data removed]",
      "text/plain": [
       "<Figure size 640x480 with 1 Axes>"
      ]
     },
     "metadata": {},
     "output_type": "display_data"
    }
   ],
   "source": [
    "# distribution of duplicated and non duplicated pairs\n",
    "print(df['is_duplicate'].value_counts())\n",
    "print((df['is_duplicate'].value_counts()/df['is_duplicate'].count())*100)\n",
    "df['is_duplicate'].value_counts().plot(kind='bar')"
   ]
  },
  {
   "cell_type": "code",
   "execution_count": 9,
   "id": "f72c6c4c",
   "metadata": {
    "execution": {
     "iopub.execute_input": "2025-05-16T10:49:31.137348Z",
     "iopub.status.busy": "2025-05-16T10:49:31.136949Z",
     "iopub.status.idle": "2025-05-16T10:49:31.166269Z",
     "shell.execute_reply": "2025-05-16T10:49:31.164918Z"
    },
    "papermill": {
     "duration": 0.040306,
     "end_time": "2025-05-16T10:49:31.168270",
     "exception": false,
     "start_time": "2025-05-16T10:49:31.127964",
     "status": "completed"
    },
    "tags": []
   },
   "outputs": [],
   "source": [
    "new_df = df.sample(70000)"
   ]
  },
  {
   "cell_type": "code",
   "execution_count": 10,
   "id": "1c855adb",
   "metadata": {
    "execution": {
     "iopub.execute_input": "2025-05-16T10:49:31.186069Z",
     "iopub.status.busy": "2025-05-16T10:49:31.185671Z",
     "iopub.status.idle": "2025-05-16T10:49:31.200156Z",
     "shell.execute_reply": "2025-05-16T10:49:31.199070Z"
    },
    "papermill": {
     "duration": 0.02522,
     "end_time": "2025-05-16T10:49:31.201878",
     "exception": false,
     "start_time": "2025-05-16T10:49:31.176658",
     "status": "completed"
    },
    "tags": []
   },
   "outputs": [],
   "source": [
    "def preprocess(q):\n",
    "    \n",
    "    q = str(q).lower().strip()\n",
    "    \n",
    "    # Replace certain special characters with their string equivalents\n",
    "    q = q.replace('%', ' percent')\n",
    "    q = q.replace('$', ' dollar ')\n",
    "    q = q.replace('₹', ' rupee ')\n",
    "    q = q.replace('€', ' euro ')\n",
    "    q = q.replace('@', ' at ')\n",
    "    \n",
    "    # The pattern '[math]' appears around 900 times in the whole dataset.\n",
    "    q = q.replace('[math]', '')\n",
    "    \n",
    "    # Replacing some numbers with string equivalents (not perfect, can be done better to account for more cases)\n",
    "    q = q.replace(',000,000,000 ', 'b ')\n",
    "    q = q.replace(',000,000 ', 'm ')\n",
    "    q = q.replace(',000 ', 'k ')\n",
    "    q = re.sub(r'([0-9]+)000000000', r'\\1b', q)\n",
    "    q = re.sub(r'([0-9]+)000000', r'\\1m', q)\n",
    "    q = re.sub(r'([0-9]+)000', r'\\1k', q)\n",
    "    \n",
    "    # Decontracting words\n",
    "    # https://en.wikipedia.org/wiki/Wikipedia%3aList_of_English_contractions\n",
    "    # https://stackoverflow.com/a/19794953\n",
    "    contractions = { \n",
    "    \"ain't\": \"am not\",\n",
    "    \"aren't\": \"are not\",\n",
    "    \"can't\": \"can not\",\n",
    "    \"can't've\": \"can not have\",\n",
    "    \"'cause\": \"because\",\n",
    "    \"could've\": \"could have\",\n",
    "    \"couldn't\": \"could not\",\n",
    "    \"couldn't've\": \"could not have\",\n",
    "    \"didn't\": \"did not\",\n",
    "    \"doesn't\": \"does not\",\n",
    "    \"don't\": \"do not\",\n",
    "    \"hadn't\": \"had not\",\n",
    "    \"hadn't've\": \"had not have\",\n",
    "    \"hasn't\": \"has not\",\n",
    "    \"haven't\": \"have not\",\n",
    "    \"he'd\": \"he would\",\n",
    "    \"he'd've\": \"he would have\",\n",
    "    \"he'll\": \"he will\",\n",
    "    \"he'll've\": \"he will have\",\n",
    "    \"he's\": \"he is\",\n",
    "    \"how'd\": \"how did\",\n",
    "    \"how'd'y\": \"how do you\",\n",
    "    \"how'll\": \"how will\",\n",
    "    \"how's\": \"how is\",\n",
    "    \"i'd\": \"i would\",\n",
    "    \"i'd've\": \"i would have\",\n",
    "    \"i'll\": \"i will\",\n",
    "    \"i'll've\": \"i will have\",\n",
    "    \"i'm\": \"i am\",\n",
    "    \"i've\": \"i have\",\n",
    "    \"isn't\": \"is not\",\n",
    "    \"it'd\": \"it would\",\n",
    "    \"it'd've\": \"it would have\",\n",
    "    \"it'll\": \"it will\",\n",
    "    \"it'll've\": \"it will have\",\n",
    "    \"it's\": \"it is\",\n",
    "    \"let's\": \"let us\",\n",
    "    \"ma'am\": \"madam\",\n",
    "    \"mayn't\": \"may not\",\n",
    "    \"might've\": \"might have\",\n",
    "    \"mightn't\": \"might not\",\n",
    "    \"mightn't've\": \"might not have\",\n",
    "    \"must've\": \"must have\",\n",
    "    \"mustn't\": \"must not\",\n",
    "    \"mustn't've\": \"must not have\",\n",
    "    \"needn't\": \"need not\",\n",
    "    \"needn't've\": \"need not have\",\n",
    "    \"o'clock\": \"of the clock\",\n",
    "    \"oughtn't\": \"ought not\",\n",
    "    \"oughtn't've\": \"ought not have\",\n",
    "    \"shan't\": \"shall not\",\n",
    "    \"sha'n't\": \"shall not\",\n",
    "    \"shan't've\": \"shall not have\",\n",
    "    \"she'd\": \"she would\",\n",
    "    \"she'd've\": \"she would have\",\n",
    "    \"she'll\": \"she will\",\n",
    "    \"she'll've\": \"she will have\",\n",
    "    \"she's\": \"she is\",\n",
    "    \"should've\": \"should have\",\n",
    "    \"shouldn't\": \"should not\",\n",
    "    \"shouldn't've\": \"should not have\",\n",
    "    \"so've\": \"so have\",\n",
    "    \"so's\": \"so as\",\n",
    "    \"that'd\": \"that would\",\n",
    "    \"that'd've\": \"that would have\",\n",
    "    \"that's\": \"that is\",\n",
    "    \"there'd\": \"there would\",\n",
    "    \"there'd've\": \"there would have\",\n",
    "    \"there's\": \"there is\",\n",
    "    \"they'd\": \"they would\",\n",
    "    \"they'd've\": \"they would have\",\n",
    "    \"they'll\": \"they will\",\n",
    "    \"they'll've\": \"they will have\",\n",
    "    \"they're\": \"they are\",\n",
    "    \"they've\": \"they have\",\n",
    "    \"to've\": \"to have\",\n",
    "    \"wasn't\": \"was not\",\n",
    "    \"we'd\": \"we would\",\n",
    "    \"we'd've\": \"we would have\",\n",
    "    \"we'll\": \"we will\",\n",
    "    \"we'll've\": \"we will have\",\n",
    "    \"we're\": \"we are\",\n",
    "    \"we've\": \"we have\",\n",
    "    \"weren't\": \"were not\",\n",
    "    \"what'll\": \"what will\",\n",
    "    \"what'll've\": \"what will have\",\n",
    "    \"what're\": \"what are\",\n",
    "    \"what's\": \"what is\",\n",
    "    \"what've\": \"what have\",\n",
    "    \"when's\": \"when is\",\n",
    "    \"when've\": \"when have\",\n",
    "    \"where'd\": \"where did\",\n",
    "    \"where's\": \"where is\",\n",
    "    \"where've\": \"where have\",\n",
    "    \"who'll\": \"who will\",\n",
    "    \"who'll've\": \"who will have\",\n",
    "    \"who's\": \"who is\",\n",
    "    \"who've\": \"who have\",\n",
    "    \"why's\": \"why is\",\n",
    "    \"why've\": \"why have\",\n",
    "    \"will've\": \"will have\",\n",
    "    \"won't\": \"will not\",\n",
    "    \"won't've\": \"will not have\",\n",
    "    \"would've\": \"would have\",\n",
    "    \"wouldn't\": \"would not\",\n",
    "    \"wouldn't've\": \"would not have\",\n",
    "    \"y'all\": \"you all\",\n",
    "    \"y'all'd\": \"you all would\",\n",
    "    \"y'all'd've\": \"you all would have\",\n",
    "    \"y'all're\": \"you all are\",\n",
    "    \"y'all've\": \"you all have\",\n",
    "    \"you'd\": \"you would\",\n",
    "    \"you'd've\": \"you would have\",\n",
    "    \"you'll\": \"you will\",\n",
    "    \"you'll've\": \"you will have\",\n",
    "    \"you're\": \"you are\",\n",
    "    \"you've\": \"you have\"\n",
    "    }\n",
    "    q_decontracted = []\n",
    "\n",
    "    for word in q.split():\n",
    "        if word in contractions:\n",
    "            word = contractions[word]\n",
    "\n",
    "        q_decontracted.append(word)\n",
    "\n",
    "    q = ' '.join(q_decontracted)\n",
    "    q = q.replace(\"'ve\", \" have\")\n",
    "    q = q.replace(\"n't\", \" not\")\n",
    "    q = q.replace(\"'re\", \" are\")\n",
    "    q = q.replace(\"'ll\", \" will\")\n",
    "    \n",
    "    # Removing HTML tags\n",
    "    q = BeautifulSoup(q)\n",
    "    q = q.get_text()\n",
    "    \n",
    "    # Remove punctuations\n",
    "    pattern = re.compile('\\W')\n",
    "    q = re.sub(pattern, ' ', q).strip()\n",
    "\n",
    "    \n",
    "    return q"
   ]
  },
  {
   "cell_type": "code",
   "execution_count": 11,
   "id": "627b3790",
   "metadata": {
    "execution": {
     "iopub.execute_input": "2025-05-16T10:49:31.219123Z",
     "iopub.status.busy": "2025-05-16T10:49:31.218754Z",
     "iopub.status.idle": "2025-05-16T10:50:02.969225Z",
     "shell.execute_reply": "2025-05-16T10:50:02.967994Z"
    },
    "papermill": {
     "duration": 31.761178,
     "end_time": "2025-05-16T10:50:02.971135",
     "exception": false,
     "start_time": "2025-05-16T10:49:31.209957",
     "status": "completed"
    },
    "tags": []
   },
   "outputs": [],
   "source": [
    "new_df['question1'] = new_df['question1'].apply(preprocess)\n",
    "new_df['question2'] = new_df['question2'].apply(preprocess)"
   ]
  },
  {
   "cell_type": "code",
   "execution_count": 12,
   "id": "7423f11b",
   "metadata": {
    "execution": {
     "iopub.execute_input": "2025-05-16T10:50:02.988961Z",
     "iopub.status.busy": "2025-05-16T10:50:02.988568Z",
     "iopub.status.idle": "2025-05-16T10:50:02.999868Z",
     "shell.execute_reply": "2025-05-16T10:50:02.998734Z"
    },
    "papermill": {
     "duration": 0.022173,
     "end_time": "2025-05-16T10:50:03.001659",
     "exception": false,
     "start_time": "2025-05-16T10:50:02.979486",
     "status": "completed"
    },
    "tags": []
   },
   "outputs": [
    {
     "data": {
      "text/html": [
       "<div>\n",
       "<style scoped>\n",
       "    .dataframe tbody tr th:only-of-type {\n",
       "        vertical-align: middle;\n",
       "    }\n",
       "\n",
       "    .dataframe tbody tr th {\n",
       "        vertical-align: top;\n",
       "    }\n",
       "\n",
       "    .dataframe thead th {\n",
       "        text-align: right;\n",
       "    }\n",
       "</style>\n",
       "<table border=\"1\" class=\"dataframe\">\n",
       "  <thead>\n",
       "    <tr style=\"text-align: right;\">\n",
       "      <th></th>\n",
       "      <th>id</th>\n",
       "      <th>qid1</th>\n",
       "      <th>qid2</th>\n",
       "      <th>question1</th>\n",
       "      <th>question2</th>\n",
       "      <th>is_duplicate</th>\n",
       "    </tr>\n",
       "  </thead>\n",
       "  <tbody>\n",
       "    <tr>\n",
       "      <th>180008</th>\n",
       "      <td>180008</td>\n",
       "      <td>355554</td>\n",
       "      <td>355555</td>\n",
       "      <td>what is make money online</td>\n",
       "      <td>how can i earn money easily online</td>\n",
       "      <td>1</td>\n",
       "    </tr>\n",
       "    <tr>\n",
       "      <th>247236</th>\n",
       "      <td>247236</td>\n",
       "      <td>486852</td>\n",
       "      <td>486853</td>\n",
       "      <td>how can i start up a conversation with someone...</td>\n",
       "      <td>i can not start a conversation with a girl bec...</td>\n",
       "      <td>0</td>\n",
       "    </tr>\n",
       "    <tr>\n",
       "      <th>322746</th>\n",
       "      <td>322746</td>\n",
       "      <td>633122</td>\n",
       "      <td>633123</td>\n",
       "      <td>why girls height matters in indian culture</td>\n",
       "      <td>japanese culture is loaded with displays of re...</td>\n",
       "      <td>0</td>\n",
       "    </tr>\n",
       "    <tr>\n",
       "      <th>31497</th>\n",
       "      <td>31497</td>\n",
       "      <td>62786</td>\n",
       "      <td>62787</td>\n",
       "      <td>how do women feel about a guy that likes to be...</td>\n",
       "      <td>least square adjustment cons</td>\n",
       "      <td>0</td>\n",
       "    </tr>\n",
       "    <tr>\n",
       "      <th>268239</th>\n",
       "      <td>268239</td>\n",
       "      <td>527644</td>\n",
       "      <td>2854</td>\n",
       "      <td>why do you feel that the death penalty is  cru...</td>\n",
       "      <td>is the death penalty cruel and unusual punishment</td>\n",
       "      <td>1</td>\n",
       "    </tr>\n",
       "  </tbody>\n",
       "</table>\n",
       "</div>"
      ],
      "text/plain": [
       "            id    qid1    qid2  \\\n",
       "180008  180008  355554  355555   \n",
       "247236  247236  486852  486853   \n",
       "322746  322746  633122  633123   \n",
       "31497    31497   62786   62787   \n",
       "268239  268239  527644    2854   \n",
       "\n",
       "                                                question1  \\\n",
       "180008                          what is make money online   \n",
       "247236  how can i start up a conversation with someone...   \n",
       "322746         why girls height matters in indian culture   \n",
       "31497   how do women feel about a guy that likes to be...   \n",
       "268239  why do you feel that the death penalty is  cru...   \n",
       "\n",
       "                                                question2  is_duplicate  \n",
       "180008                 how can i earn money easily online             1  \n",
       "247236  i can not start a conversation with a girl bec...             0  \n",
       "322746  japanese culture is loaded with displays of re...             0  \n",
       "31497                        least square adjustment cons             0  \n",
       "268239  is the death penalty cruel and unusual punishment             1  "
      ]
     },
     "execution_count": 12,
     "metadata": {},
     "output_type": "execute_result"
    }
   ],
   "source": [
    "new_df.head()"
   ]
  },
  {
   "cell_type": "code",
   "execution_count": 13,
   "id": "49f66e2a",
   "metadata": {
    "execution": {
     "iopub.execute_input": "2025-05-16T10:50:03.019605Z",
     "iopub.status.busy": "2025-05-16T10:50:03.019248Z",
     "iopub.status.idle": "2025-05-16T10:50:03.036804Z",
     "shell.execute_reply": "2025-05-16T10:50:03.035845Z"
    },
    "papermill": {
     "duration": 0.028541,
     "end_time": "2025-05-16T10:50:03.038542",
     "exception": false,
     "start_time": "2025-05-16T10:50:03.010001",
     "status": "completed"
    },
    "tags": []
   },
   "outputs": [
    {
     "data": {
      "text/plain": [
       "id              0\n",
       "qid1            0\n",
       "qid2            0\n",
       "question1       0\n",
       "question2       0\n",
       "is_duplicate    0\n",
       "dtype: int64"
      ]
     },
     "execution_count": 13,
     "metadata": {},
     "output_type": "execute_result"
    }
   ],
   "source": [
    "new_df.isnull().sum()"
   ]
  },
  {
   "cell_type": "code",
   "execution_count": 14,
   "id": "22522bf2",
   "metadata": {
    "execution": {
     "iopub.execute_input": "2025-05-16T10:50:03.056352Z",
     "iopub.status.busy": "2025-05-16T10:50:03.055973Z",
     "iopub.status.idle": "2025-05-16T10:50:03.203325Z",
     "shell.execute_reply": "2025-05-16T10:50:03.202141Z"
    },
    "papermill": {
     "duration": 0.158546,
     "end_time": "2025-05-16T10:50:03.205400",
     "exception": false,
     "start_time": "2025-05-16T10:50:03.046854",
     "status": "completed"
    },
    "tags": []
   },
   "outputs": [
    {
     "name": "stdout",
     "output_type": "stream",
     "text": [
      "is_duplicate\n",
      "0    44221\n",
      "1    25779\n",
      "Name: count, dtype: int64\n",
      "is_duplicate\n",
      "0    63.172857\n",
      "1    36.827143\n",
      "Name: count, dtype: float64\n"
     ]
    },
    {
     "data": {
      "text/plain": [
       "<Axes: xlabel='is_duplicate'>"
      ]
     },
     "execution_count": 14,
     "metadata": {},
     "output_type": "execute_result"
    },
    {
     "data": {
      "image/png": "[encoded data removed]",
      "text/plain": [
       "<Figure size 640x480 with 1 Axes>"
      ]
     },
     "metadata": {},
     "output_type": "display_data"
    }
   ],
   "source": [
    "# distribution of duplicated and non duplicated pairs\n",
    "print(new_df['is_duplicate'].value_counts())\n",
    "print((new_df['is_duplicate'].value_counts()/new_df['is_duplicate'].count())*100)\n",
    "new_df['is_duplicate'].value_counts().plot(kind='bar')"
   ]
  },
  {
   "cell_type": "code",
   "execution_count": 15,
   "id": "ecdffe9b",
   "metadata": {
    "execution": {
     "iopub.execute_input": "2025-05-16T10:50:03.225075Z",
     "iopub.status.busy": "2025-05-16T10:50:03.224667Z",
     "iopub.status.idle": "2025-05-16T10:50:03.278221Z",
     "shell.execute_reply": "2025-05-16T10:50:03.277225Z"
    },
    "papermill": {
     "duration": 0.065524,
     "end_time": "2025-05-16T10:50:03.280139",
     "exception": false,
     "start_time": "2025-05-16T10:50:03.214615",
     "status": "completed"
    },
    "tags": []
   },
   "outputs": [],
   "source": [
    "new_df['q1_len'] = new_df['question1'].str.len()\n",
    "new_df['q2_len'] = new_df['question2'].str.len()"
   ]
  },
  {
   "cell_type": "code",
   "execution_count": 16,
   "id": "33747dfc",
   "metadata": {
    "execution": {
     "iopub.execute_input": "2025-05-16T10:50:03.299140Z",
     "iopub.status.busy": "2025-05-16T10:50:03.298762Z",
     "iopub.status.idle": "2025-05-16T10:50:03.310219Z",
     "shell.execute_reply": "2025-05-16T10:50:03.309090Z"
    },
    "papermill": {
     "duration": 0.023335,
     "end_time": "2025-05-16T10:50:03.312287",
     "exception": false,
     "start_time": "2025-05-16T10:50:03.288952",
     "status": "completed"
    },
    "tags": []
   },
   "outputs": [
    {
     "data": {
      "text/html": [
       "<div>\n",
       "<style scoped>\n",
       "    .dataframe tbody tr th:only-of-type {\n",
       "        vertical-align: middle;\n",
       "    }\n",
       "\n",
       "    .dataframe tbody tr th {\n",
       "        vertical-align: top;\n",
       "    }\n",
       "\n",
       "    .dataframe thead th {\n",
       "        text-align: right;\n",
       "    }\n",
       "</style>\n",
       "<table border=\"1\" class=\"dataframe\">\n",
       "  <thead>\n",
       "    <tr style=\"text-align: right;\">\n",
       "      <th></th>\n",
       "      <th>id</th>\n",
       "      <th>qid1</th>\n",
       "      <th>qid2</th>\n",
       "      <th>question1</th>\n",
       "      <th>question2</th>\n",
       "      <th>is_duplicate</th>\n",
       "      <th>q1_len</th>\n",
       "      <th>q2_len</th>\n",
       "    </tr>\n",
       "  </thead>\n",
       "  <tbody>\n",
       "    <tr>\n",
       "      <th>180008</th>\n",
       "      <td>180008</td>\n",
       "      <td>355554</td>\n",
       "      <td>355555</td>\n",
       "      <td>what is make money online</td>\n",
       "      <td>how can i earn money easily online</td>\n",
       "      <td>1</td>\n",
       "      <td>25</td>\n",
       "      <td>34</td>\n",
       "    </tr>\n",
       "    <tr>\n",
       "      <th>247236</th>\n",
       "      <td>247236</td>\n",
       "      <td>486852</td>\n",
       "      <td>486853</td>\n",
       "      <td>how can i start up a conversation with someone...</td>\n",
       "      <td>i can not start a conversation with a girl bec...</td>\n",
       "      <td>0</td>\n",
       "      <td>62</td>\n",
       "      <td>116</td>\n",
       "    </tr>\n",
       "    <tr>\n",
       "      <th>322746</th>\n",
       "      <td>322746</td>\n",
       "      <td>633122</td>\n",
       "      <td>633123</td>\n",
       "      <td>why girls height matters in indian culture</td>\n",
       "      <td>japanese culture is loaded with displays of re...</td>\n",
       "      <td>0</td>\n",
       "      <td>42</td>\n",
       "      <td>240</td>\n",
       "    </tr>\n",
       "    <tr>\n",
       "      <th>31497</th>\n",
       "      <td>31497</td>\n",
       "      <td>62786</td>\n",
       "      <td>62787</td>\n",
       "      <td>how do women feel about a guy that likes to be...</td>\n",
       "      <td>least square adjustment cons</td>\n",
       "      <td>0</td>\n",
       "      <td>111</td>\n",
       "      <td>28</td>\n",
       "    </tr>\n",
       "    <tr>\n",
       "      <th>268239</th>\n",
       "      <td>268239</td>\n",
       "      <td>527644</td>\n",
       "      <td>2854</td>\n",
       "      <td>why do you feel that the death penalty is  cru...</td>\n",
       "      <td>is the death penalty cruel and unusual punishment</td>\n",
       "      <td>1</td>\n",
       "      <td>70</td>\n",
       "      <td>49</td>\n",
       "    </tr>\n",
       "  </tbody>\n",
       "</table>\n",
       "</div>"
      ],
      "text/plain": [
       "            id    qid1    qid2  \\\n",
       "180008  180008  355554  355555   \n",
       "247236  247236  486852  486853   \n",
       "322746  322746  633122  633123   \n",
       "31497    31497   62786   62787   \n",
       "268239  268239  527644    2854   \n",
       "\n",
       "                                                question1  \\\n",
       "180008                          what is make money online   \n",
       "247236  how can i start up a conversation with someone...   \n",
       "322746         why girls height matters in indian culture   \n",
       "31497   how do women feel about a guy that likes to be...   \n",
       "268239  why do you feel that the death penalty is  cru...   \n",
       "\n",
       "                                                question2  is_duplicate  \\\n",
       "180008                 how can i earn money easily online             1   \n",
       "247236  i can not start a conversation with a girl bec...             0   \n",
       "322746  japanese culture is loaded with displays of re...             0   \n",
       "31497                        least square adjustment cons             0   \n",
       "268239  is the death penalty cruel and unusual punishment             1   \n",
       "\n",
       "        q1_len  q2_len  \n",
       "180008      25      34  \n",
       "247236      62     116  \n",
       "322746      42     240  \n",
       "31497      111      28  \n",
       "268239      70      49  "
      ]
     },
     "execution_count": 16,
     "metadata": {},
     "output_type": "execute_result"
    }
   ],
   "source": [
    "new_df.head()"
   ]
  },
  {
   "cell_type": "code",
   "execution_count": 17,
   "id": "9065c339",
   "metadata": {
    "execution": {
     "iopub.execute_input": "2025-05-16T10:50:03.332131Z",
     "iopub.status.busy": "2025-05-16T10:50:03.331732Z",
     "iopub.status.idle": "2025-05-16T10:50:03.488434Z",
     "shell.execute_reply": "2025-05-16T10:50:03.487463Z"
    },
    "papermill": {
     "duration": 0.168769,
     "end_time": "2025-05-16T10:50:03.490509",
     "exception": false,
     "start_time": "2025-05-16T10:50:03.321740",
     "status": "completed"
    },
    "tags": []
   },
   "outputs": [],
   "source": [
    "# counting no. of words in question1 and question2\n",
    "new_df['q1_words'] = new_df['question1'].apply(lambda row:len(row.split(\" \")))\n",
    "new_df['q2_words'] = new_df['question2'].apply(lambda row:len(row.split(\" \")))"
   ]
  },
  {
   "cell_type": "code",
   "execution_count": 18,
   "id": "2109ee70",
   "metadata": {
    "execution": {
     "iopub.execute_input": "2025-05-16T10:50:03.509763Z",
     "iopub.status.busy": "2025-05-16T10:50:03.509396Z",
     "iopub.status.idle": "2025-05-16T10:50:03.521242Z",
     "shell.execute_reply": "2025-05-16T10:50:03.520297Z"
    },
    "papermill": {
     "duration": 0.023067,
     "end_time": "2025-05-16T10:50:03.522799",
     "exception": false,
     "start_time": "2025-05-16T10:50:03.499732",
     "status": "completed"
    },
    "tags": []
   },
   "outputs": [
    {
     "data": {
      "text/html": [
       "<div>\n",
       "<style scoped>\n",
       "    .dataframe tbody tr th:only-of-type {\n",
       "        vertical-align: middle;\n",
       "    }\n",
       "\n",
       "    .dataframe tbody tr th {\n",
       "        vertical-align: top;\n",
       "    }\n",
       "\n",
       "    .dataframe thead th {\n",
       "        text-align: right;\n",
       "    }\n",
       "</style>\n",
       "<table border=\"1\" class=\"dataframe\">\n",
       "  <thead>\n",
       "    <tr style=\"text-align: right;\">\n",
       "      <th></th>\n",
       "      <th>id</th>\n",
       "      <th>qid1</th>\n",
       "      <th>qid2</th>\n",
       "      <th>question1</th>\n",
       "      <th>question2</th>\n",
       "      <th>is_duplicate</th>\n",
       "      <th>q1_len</th>\n",
       "      <th>q2_len</th>\n",
       "      <th>q1_words</th>\n",
       "      <th>q2_words</th>\n",
       "    </tr>\n",
       "  </thead>\n",
       "  <tbody>\n",
       "    <tr>\n",
       "      <th>180008</th>\n",
       "      <td>180008</td>\n",
       "      <td>355554</td>\n",
       "      <td>355555</td>\n",
       "      <td>what is make money online</td>\n",
       "      <td>how can i earn money easily online</td>\n",
       "      <td>1</td>\n",
       "      <td>25</td>\n",
       "      <td>34</td>\n",
       "      <td>5</td>\n",
       "      <td>7</td>\n",
       "    </tr>\n",
       "    <tr>\n",
       "      <th>247236</th>\n",
       "      <td>247236</td>\n",
       "      <td>486852</td>\n",
       "      <td>486853</td>\n",
       "      <td>how can i start up a conversation with someone...</td>\n",
       "      <td>i can not start a conversation with a girl bec...</td>\n",
       "      <td>0</td>\n",
       "      <td>62</td>\n",
       "      <td>116</td>\n",
       "      <td>12</td>\n",
       "      <td>24</td>\n",
       "    </tr>\n",
       "    <tr>\n",
       "      <th>322746</th>\n",
       "      <td>322746</td>\n",
       "      <td>633122</td>\n",
       "      <td>633123</td>\n",
       "      <td>why girls height matters in indian culture</td>\n",
       "      <td>japanese culture is loaded with displays of re...</td>\n",
       "      <td>0</td>\n",
       "      <td>42</td>\n",
       "      <td>240</td>\n",
       "      <td>7</td>\n",
       "      <td>44</td>\n",
       "    </tr>\n",
       "    <tr>\n",
       "      <th>31497</th>\n",
       "      <td>31497</td>\n",
       "      <td>62786</td>\n",
       "      <td>62787</td>\n",
       "      <td>how do women feel about a guy that likes to be...</td>\n",
       "      <td>least square adjustment cons</td>\n",
       "      <td>0</td>\n",
       "      <td>111</td>\n",
       "      <td>28</td>\n",
       "      <td>24</td>\n",
       "      <td>4</td>\n",
       "    </tr>\n",
       "    <tr>\n",
       "      <th>268239</th>\n",
       "      <td>268239</td>\n",
       "      <td>527644</td>\n",
       "      <td>2854</td>\n",
       "      <td>why do you feel that the death penalty is  cru...</td>\n",
       "      <td>is the death penalty cruel and unusual punishment</td>\n",
       "      <td>1</td>\n",
       "      <td>70</td>\n",
       "      <td>49</td>\n",
       "      <td>14</td>\n",
       "      <td>8</td>\n",
       "    </tr>\n",
       "  </tbody>\n",
       "</table>\n",
       "</div>"
      ],
      "text/plain": [
       "            id    qid1    qid2  \\\n",
       "180008  180008  355554  355555   \n",
       "247236  247236  486852  486853   \n",
       "322746  322746  633122  633123   \n",
       "31497    31497   62786   62787   \n",
       "268239  268239  527644    2854   \n",
       "\n",
       "                                                question1  \\\n",
       "180008                          what is make money online   \n",
       "247236  how can i start up a conversation with someone...   \n",
       "322746         why girls height matters in indian culture   \n",
       "31497   how do women feel about a guy that likes to be...   \n",
       "268239  why do you feel that the death penalty is  cru...   \n",
       "\n",
       "                                                question2  is_duplicate  \\\n",
       "180008                 how can i earn money easily online             1   \n",
       "247236  i can not start a conversation with a girl bec...             0   \n",
       "322746  japanese culture is loaded with displays of re...             0   \n",
       "31497                        least square adjustment cons             0   \n",
       "268239  is the death penalty cruel and unusual punishment             1   \n",
       "\n",
       "        q1_len  q2_len  q1_words  q2_words  \n",
       "180008      25      34         5         7  \n",
       "247236      62     116        12        24  \n",
       "322746      42     240         7        44  \n",
       "31497      111      28        24         4  \n",
       "268239      70      49        14         8  "
      ]
     },
     "execution_count": 18,
     "metadata": {},
     "output_type": "execute_result"
    }
   ],
   "source": [
    "new_df.head()"
   ]
  },
  {
   "cell_type": "code",
   "execution_count": 19,
   "id": "6d181c08",
   "metadata": {
    "execution": {
     "iopub.execute_input": "2025-05-16T10:50:03.542584Z",
     "iopub.status.busy": "2025-05-16T10:50:03.542162Z",
     "iopub.status.idle": "2025-05-16T10:50:03.547369Z",
     "shell.execute_reply": "2025-05-16T10:50:03.546253Z"
    },
    "papermill": {
     "duration": 0.017043,
     "end_time": "2025-05-16T10:50:03.549111",
     "exception": false,
     "start_time": "2025-05-16T10:50:03.532068",
     "status": "completed"
    },
    "tags": []
   },
   "outputs": [],
   "source": [
    "# to find number of commomn words in the qustion1 and question2\n",
    "def common_words(row):\n",
    "    w1 = set(map(lambda word: word.strip(),row['question1'].split(\" \")))\n",
    "    w2 = set(map(lambda word: word.strip(),row['question2'].split(\" \")))\n",
    "    return len(w1 & w2)"
   ]
  },
  {
   "cell_type": "code",
   "execution_count": 20,
   "id": "ed09c6a7",
   "metadata": {
    "execution": {
     "iopub.execute_input": "2025-05-16T10:50:03.568828Z",
     "iopub.status.busy": "2025-05-16T10:50:03.568460Z",
     "iopub.status.idle": "2025-05-16T10:50:04.909595Z",
     "shell.execute_reply": "2025-05-16T10:50:04.908104Z"
    },
    "papermill": {
     "duration": 1.353595,
     "end_time": "2025-05-16T10:50:04.912054",
     "exception": false,
     "start_time": "2025-05-16T10:50:03.558459",
     "status": "completed"
    },
    "tags": []
   },
   "outputs": [
    {
     "data": {
      "text/html": [
       "<div>\n",
       "<style scoped>\n",
       "    .dataframe tbody tr th:only-of-type {\n",
       "        vertical-align: middle;\n",
       "    }\n",
       "\n",
       "    .dataframe tbody tr th {\n",
       "        vertical-align: top;\n",
       "    }\n",
       "\n",
       "    .dataframe thead th {\n",
       "        text-align: right;\n",
       "    }\n",
       "</style>\n",
       "<table border=\"1\" class=\"dataframe\">\n",
       "  <thead>\n",
       "    <tr style=\"text-align: right;\">\n",
       "      <th></th>\n",
       "      <th>id</th>\n",
       "      <th>qid1</th>\n",
       "      <th>qid2</th>\n",
       "      <th>question1</th>\n",
       "      <th>question2</th>\n",
       "      <th>is_duplicate</th>\n",
       "      <th>q1_len</th>\n",
       "      <th>q2_len</th>\n",
       "      <th>q1_words</th>\n",
       "      <th>q2_words</th>\n",
       "      <th>word_common</th>\n",
       "    </tr>\n",
       "  </thead>\n",
       "  <tbody>\n",
       "    <tr>\n",
       "      <th>180008</th>\n",
       "      <td>180008</td>\n",
       "      <td>355554</td>\n",
       "      <td>355555</td>\n",
       "      <td>what is make money online</td>\n",
       "      <td>how can i earn money easily online</td>\n",
       "      <td>1</td>\n",
       "      <td>25</td>\n",
       "      <td>34</td>\n",
       "      <td>5</td>\n",
       "      <td>7</td>\n",
       "      <td>2</td>\n",
       "    </tr>\n",
       "    <tr>\n",
       "      <th>247236</th>\n",
       "      <td>247236</td>\n",
       "      <td>486852</td>\n",
       "      <td>486853</td>\n",
       "      <td>how can i start up a conversation with someone...</td>\n",
       "      <td>i can not start a conversation with a girl bec...</td>\n",
       "      <td>0</td>\n",
       "      <td>62</td>\n",
       "      <td>116</td>\n",
       "      <td>12</td>\n",
       "      <td>24</td>\n",
       "      <td>7</td>\n",
       "    </tr>\n",
       "    <tr>\n",
       "      <th>322746</th>\n",
       "      <td>322746</td>\n",
       "      <td>633122</td>\n",
       "      <td>633123</td>\n",
       "      <td>why girls height matters in indian culture</td>\n",
       "      <td>japanese culture is loaded with displays of re...</td>\n",
       "      <td>0</td>\n",
       "      <td>42</td>\n",
       "      <td>240</td>\n",
       "      <td>7</td>\n",
       "      <td>44</td>\n",
       "      <td>3</td>\n",
       "    </tr>\n",
       "    <tr>\n",
       "      <th>31497</th>\n",
       "      <td>31497</td>\n",
       "      <td>62786</td>\n",
       "      <td>62787</td>\n",
       "      <td>how do women feel about a guy that likes to be...</td>\n",
       "      <td>least square adjustment cons</td>\n",
       "      <td>0</td>\n",
       "      <td>111</td>\n",
       "      <td>28</td>\n",
       "      <td>24</td>\n",
       "      <td>4</td>\n",
       "      <td>0</td>\n",
       "    </tr>\n",
       "    <tr>\n",
       "      <th>268239</th>\n",
       "      <td>268239</td>\n",
       "      <td>527644</td>\n",
       "      <td>2854</td>\n",
       "      <td>why do you feel that the death penalty is  cru...</td>\n",
       "      <td>is the death penalty cruel and unusual punishment</td>\n",
       "      <td>1</td>\n",
       "      <td>70</td>\n",
       "      <td>49</td>\n",
       "      <td>14</td>\n",
       "      <td>8</td>\n",
       "      <td>7</td>\n",
       "    </tr>\n",
       "  </tbody>\n",
       "</table>\n",
       "</div>"
      ],
      "text/plain": [
       "            id    qid1    qid2  \\\n",
       "180008  180008  355554  355555   \n",
       "247236  247236  486852  486853   \n",
       "322746  322746  633122  633123   \n",
       "31497    31497   62786   62787   \n",
       "268239  268239  527644    2854   \n",
       "\n",
       "                                                question1  \\\n",
       "180008                          what is make money online   \n",
       "247236  how can i start up a conversation with someone...   \n",
       "322746         why girls height matters in indian culture   \n",
       "31497   how do women feel about a guy that likes to be...   \n",
       "268239  why do you feel that the death penalty is  cru...   \n",
       "\n",
       "                                                question2  is_duplicate  \\\n",
       "180008                 how can i earn money easily online             1   \n",
       "247236  i can not start a conversation with a girl bec...             0   \n",
       "322746  japanese culture is loaded with displays of re...             0   \n",
       "31497                        least square adjustment cons             0   \n",
       "268239  is the death penalty cruel and unusual punishment             1   \n",
       "\n",
       "        q1_len  q2_len  q1_words  q2_words  word_common  \n",
       "180008      25      34         5         7            2  \n",
       "247236      62     116        12        24            7  \n",
       "322746      42     240         7        44            3  \n",
       "31497      111      28        24         4            0  \n",
       "268239      70      49        14         8            7  "
      ]
     },
     "execution_count": 20,
     "metadata": {},
     "output_type": "execute_result"
    }
   ],
   "source": [
    "new_df['word_common'] = new_df.apply(common_words,axis=1)\n",
    "new_df.head()"
   ]
  },
  {
   "cell_type": "code",
   "execution_count": 21,
   "id": "1b1c12b4",
   "metadata": {
    "execution": {
     "iopub.execute_input": "2025-05-16T10:50:04.938507Z",
     "iopub.status.busy": "2025-05-16T10:50:04.937833Z",
     "iopub.status.idle": "2025-05-16T10:50:04.944964Z",
     "shell.execute_reply": "2025-05-16T10:50:04.943571Z"
    },
    "papermill": {
     "duration": 0.021491,
     "end_time": "2025-05-16T10:50:04.947211",
     "exception": false,
     "start_time": "2025-05-16T10:50:04.925720",
     "status": "completed"
    },
    "tags": []
   },
   "outputs": [],
   "source": [
    "# total words\n",
    "def total_words(row):\n",
    "    w1 = set(map(lambda word: word.strip(),row['question1'].split(\" \")))\n",
    "    w2 = set(map(lambda word: word.strip(),row['question2'].split(\" \")))\n",
    "    return (len(w1) + len(w2))"
   ]
  },
  {
   "cell_type": "code",
   "execution_count": 22,
   "id": "fb6f85cf",
   "metadata": {
    "execution": {
     "iopub.execute_input": "2025-05-16T10:50:04.969948Z",
     "iopub.status.busy": "2025-05-16T10:50:04.969586Z",
     "iopub.status.idle": "2025-05-16T10:50:06.267264Z",
     "shell.execute_reply": "2025-05-16T10:50:06.266019Z"
    },
    "papermill": {
     "duration": 1.310155,
     "end_time": "2025-05-16T10:50:06.269276",
     "exception": false,
     "start_time": "2025-05-16T10:50:04.959121",
     "status": "completed"
    },
    "tags": []
   },
   "outputs": [
    {
     "data": {
      "text/html": [
       "<div>\n",
       "<style scoped>\n",
       "    .dataframe tbody tr th:only-of-type {\n",
       "        vertical-align: middle;\n",
       "    }\n",
       "\n",
       "    .dataframe tbody tr th {\n",
       "        vertical-align: top;\n",
       "    }\n",
       "\n",
       "    .dataframe thead th {\n",
       "        text-align: right;\n",
       "    }\n",
       "</style>\n",
       "<table border=\"1\" class=\"dataframe\">\n",
       "  <thead>\n",
       "    <tr style=\"text-align: right;\">\n",
       "      <th></th>\n",
       "      <th>id</th>\n",
       "      <th>qid1</th>\n",
       "      <th>qid2</th>\n",
       "      <th>question1</th>\n",
       "      <th>question2</th>\n",
       "      <th>is_duplicate</th>\n",
       "      <th>q1_len</th>\n",
       "      <th>q2_len</th>\n",
       "      <th>q1_words</th>\n",
       "      <th>q2_words</th>\n",
       "      <th>word_common</th>\n",
       "      <th>word_total</th>\n",
       "      <th>word_share</th>\n",
       "    </tr>\n",
       "  </thead>\n",
       "  <tbody>\n",
       "    <tr>\n",
       "      <th>180008</th>\n",
       "      <td>180008</td>\n",
       "      <td>355554</td>\n",
       "      <td>355555</td>\n",
       "      <td>what is make money online</td>\n",
       "      <td>how can i earn money easily online</td>\n",
       "      <td>1</td>\n",
       "      <td>25</td>\n",
       "      <td>34</td>\n",
       "      <td>5</td>\n",
       "      <td>7</td>\n",
       "      <td>2</td>\n",
       "      <td>12</td>\n",
       "      <td>0.17</td>\n",
       "    </tr>\n",
       "    <tr>\n",
       "      <th>247236</th>\n",
       "      <td>247236</td>\n",
       "      <td>486852</td>\n",
       "      <td>486853</td>\n",
       "      <td>how can i start up a conversation with someone...</td>\n",
       "      <td>i can not start a conversation with a girl bec...</td>\n",
       "      <td>0</td>\n",
       "      <td>62</td>\n",
       "      <td>116</td>\n",
       "      <td>12</td>\n",
       "      <td>24</td>\n",
       "      <td>7</td>\n",
       "      <td>32</td>\n",
       "      <td>0.22</td>\n",
       "    </tr>\n",
       "    <tr>\n",
       "      <th>322746</th>\n",
       "      <td>322746</td>\n",
       "      <td>633122</td>\n",
       "      <td>633123</td>\n",
       "      <td>why girls height matters in indian culture</td>\n",
       "      <td>japanese culture is loaded with displays of re...</td>\n",
       "      <td>0</td>\n",
       "      <td>42</td>\n",
       "      <td>240</td>\n",
       "      <td>7</td>\n",
       "      <td>44</td>\n",
       "      <td>3</td>\n",
       "      <td>44</td>\n",
       "      <td>0.07</td>\n",
       "    </tr>\n",
       "    <tr>\n",
       "      <th>31497</th>\n",
       "      <td>31497</td>\n",
       "      <td>62786</td>\n",
       "      <td>62787</td>\n",
       "      <td>how do women feel about a guy that likes to be...</td>\n",
       "      <td>least square adjustment cons</td>\n",
       "      <td>0</td>\n",
       "      <td>111</td>\n",
       "      <td>28</td>\n",
       "      <td>24</td>\n",
       "      <td>4</td>\n",
       "      <td>0</td>\n",
       "      <td>26</td>\n",
       "      <td>0.00</td>\n",
       "    </tr>\n",
       "    <tr>\n",
       "      <th>268239</th>\n",
       "      <td>268239</td>\n",
       "      <td>527644</td>\n",
       "      <td>2854</td>\n",
       "      <td>why do you feel that the death penalty is  cru...</td>\n",
       "      <td>is the death penalty cruel and unusual punishment</td>\n",
       "      <td>1</td>\n",
       "      <td>70</td>\n",
       "      <td>49</td>\n",
       "      <td>14</td>\n",
       "      <td>8</td>\n",
       "      <td>7</td>\n",
       "      <td>22</td>\n",
       "      <td>0.32</td>\n",
       "    </tr>\n",
       "  </tbody>\n",
       "</table>\n",
       "</div>"
      ],
      "text/plain": [
       "            id    qid1    qid2  \\\n",
       "180008  180008  355554  355555   \n",
       "247236  247236  486852  486853   \n",
       "322746  322746  633122  633123   \n",
       "31497    31497   62786   62787   \n",
       "268239  268239  527644    2854   \n",
       "\n",
       "                                                question1  \\\n",
       "180008                          what is make money online   \n",
       "247236  how can i start up a conversation with someone...   \n",
       "322746         why girls height matters in indian culture   \n",
       "31497   how do women feel about a guy that likes to be...   \n",
       "268239  why do you feel that the death penalty is  cru...   \n",
       "\n",
       "                                                question2  is_duplicate  \\\n",
       "180008                 how can i earn money easily online             1   \n",
       "247236  i can not start a conversation with a girl bec...             0   \n",
       "322746  japanese culture is loaded with displays of re...             0   \n",
       "31497                        least square adjustment cons             0   \n",
       "268239  is the death penalty cruel and unusual punishment             1   \n",
       "\n",
       "        q1_len  q2_len  q1_words  q2_words  word_common  word_total  \\\n",
       "180008      25      34         5         7            2          12   \n",
       "247236      62     116        12        24            7          32   \n",
       "322746      42     240         7        44            3          44   \n",
       "31497      111      28        24         4            0          26   \n",
       "268239      70      49        14         8            7          22   \n",
       "\n",
       "        word_share  \n",
       "180008        0.17  \n",
       "247236        0.22  \n",
       "322746        0.07  \n",
       "31497         0.00  \n",
       "268239        0.32  "
      ]
     },
     "execution_count": 22,
     "metadata": {},
     "output_type": "execute_result"
    }
   ],
   "source": [
    "new_df['word_total'] = new_df.apply(total_words,axis=1)\n",
    "new_df[\"word_share\"] = round(new_df[\"word_common\"]/new_df[\"word_total\"],2)\n",
    "new_df.head()"
   ]
  },
  {
   "cell_type": "code",
   "execution_count": 23,
   "id": "d3a429bd",
   "metadata": {
    "execution": {
     "iopub.execute_input": "2025-05-16T10:50:06.290592Z",
     "iopub.status.busy": "2025-05-16T10:50:06.290102Z",
     "iopub.status.idle": "2025-05-16T10:50:06.312720Z",
     "shell.execute_reply": "2025-05-16T10:50:06.311596Z"
    },
    "papermill": {
     "duration": 0.035297,
     "end_time": "2025-05-16T10:50:06.314556",
     "exception": false,
     "start_time": "2025-05-16T10:50:06.279259",
     "status": "completed"
    },
    "tags": []
   },
   "outputs": [
    {
     "name": "stdout",
     "output_type": "stream",
     "text": [
      "(70000, 8)\n"
     ]
    },
    {
     "data": {
      "text/html": [
       "<div>\n",
       "<style scoped>\n",
       "    .dataframe tbody tr th:only-of-type {\n",
       "        vertical-align: middle;\n",
       "    }\n",
       "\n",
       "    .dataframe tbody tr th {\n",
       "        vertical-align: top;\n",
       "    }\n",
       "\n",
       "    .dataframe thead th {\n",
       "        text-align: right;\n",
       "    }\n",
       "</style>\n",
       "<table border=\"1\" class=\"dataframe\">\n",
       "  <thead>\n",
       "    <tr style=\"text-align: right;\">\n",
       "      <th></th>\n",
       "      <th>is_duplicate</th>\n",
       "      <th>q1_len</th>\n",
       "      <th>q2_len</th>\n",
       "      <th>q1_words</th>\n",
       "      <th>q2_words</th>\n",
       "      <th>word_common</th>\n",
       "      <th>word_total</th>\n",
       "      <th>word_share</th>\n",
       "    </tr>\n",
       "  </thead>\n",
       "  <tbody>\n",
       "    <tr>\n",
       "      <th>180008</th>\n",
       "      <td>1</td>\n",
       "      <td>25</td>\n",
       "      <td>34</td>\n",
       "      <td>5</td>\n",
       "      <td>7</td>\n",
       "      <td>2</td>\n",
       "      <td>12</td>\n",
       "      <td>0.17</td>\n",
       "    </tr>\n",
       "    <tr>\n",
       "      <th>247236</th>\n",
       "      <td>0</td>\n",
       "      <td>62</td>\n",
       "      <td>116</td>\n",
       "      <td>12</td>\n",
       "      <td>24</td>\n",
       "      <td>7</td>\n",
       "      <td>32</td>\n",
       "      <td>0.22</td>\n",
       "    </tr>\n",
       "    <tr>\n",
       "      <th>322746</th>\n",
       "      <td>0</td>\n",
       "      <td>42</td>\n",
       "      <td>240</td>\n",
       "      <td>7</td>\n",
       "      <td>44</td>\n",
       "      <td>3</td>\n",
       "      <td>44</td>\n",
       "      <td>0.07</td>\n",
       "    </tr>\n",
       "    <tr>\n",
       "      <th>31497</th>\n",
       "      <td>0</td>\n",
       "      <td>111</td>\n",
       "      <td>28</td>\n",
       "      <td>24</td>\n",
       "      <td>4</td>\n",
       "      <td>0</td>\n",
       "      <td>26</td>\n",
       "      <td>0.00</td>\n",
       "    </tr>\n",
       "    <tr>\n",
       "      <th>268239</th>\n",
       "      <td>1</td>\n",
       "      <td>70</td>\n",
       "      <td>49</td>\n",
       "      <td>14</td>\n",
       "      <td>8</td>\n",
       "      <td>7</td>\n",
       "      <td>22</td>\n",
       "      <td>0.32</td>\n",
       "    </tr>\n",
       "  </tbody>\n",
       "</table>\n",
       "</div>"
      ],
      "text/plain": [
       "        is_duplicate  q1_len  q2_len  q1_words  q2_words  word_common  \\\n",
       "180008             1      25      34         5         7            2   \n",
       "247236             0      62     116        12        24            7   \n",
       "322746             0      42     240         7        44            3   \n",
       "31497              0     111      28        24         4            0   \n",
       "268239             1      70      49        14         8            7   \n",
       "\n",
       "        word_total  word_share  \n",
       "180008          12        0.17  \n",
       "247236          32        0.22  \n",
       "322746          44        0.07  \n",
       "31497           26        0.00  \n",
       "268239          22        0.32  "
      ]
     },
     "execution_count": 23,
     "metadata": {},
     "output_type": "execute_result"
    }
   ],
   "source": [
    "final_df = new_df.drop(columns = ['id','qid1','qid2','question1','question2'])\n",
    "print(final_df.shape)\n",
    "final_df.head()"
   ]
  },
  {
   "cell_type": "code",
   "execution_count": 24,
   "id": "36caa454",
   "metadata": {
    "execution": {
     "iopub.execute_input": "2025-05-16T10:50:06.336407Z",
     "iopub.status.busy": "2025-05-16T10:50:06.335923Z",
     "iopub.status.idle": "2025-05-16T10:50:06.352911Z",
     "shell.execute_reply": "2025-05-16T10:50:06.351825Z"
    },
    "papermill": {
     "duration": 0.029933,
     "end_time": "2025-05-16T10:50:06.354572",
     "exception": false,
     "start_time": "2025-05-16T10:50:06.324639",
     "status": "completed"
    },
    "tags": []
   },
   "outputs": [
    {
     "data": {
      "text/html": [
       "<div>\n",
       "<style scoped>\n",
       "    .dataframe tbody tr th:only-of-type {\n",
       "        vertical-align: middle;\n",
       "    }\n",
       "\n",
       "    .dataframe tbody tr th {\n",
       "        vertical-align: top;\n",
       "    }\n",
       "\n",
       "    .dataframe thead th {\n",
       "        text-align: right;\n",
       "    }\n",
       "</style>\n",
       "<table border=\"1\" class=\"dataframe\">\n",
       "  <thead>\n",
       "    <tr style=\"text-align: right;\">\n",
       "      <th></th>\n",
       "      <th>question1</th>\n",
       "      <th>question2</th>\n",
       "    </tr>\n",
       "  </thead>\n",
       "  <tbody>\n",
       "    <tr>\n",
       "      <th>180008</th>\n",
       "      <td>what is make money online</td>\n",
       "      <td>how can i earn money easily online</td>\n",
       "    </tr>\n",
       "    <tr>\n",
       "      <th>247236</th>\n",
       "      <td>how can i start up a conversation with someone...</td>\n",
       "      <td>i can not start a conversation with a girl bec...</td>\n",
       "    </tr>\n",
       "    <tr>\n",
       "      <th>322746</th>\n",
       "      <td>why girls height matters in indian culture</td>\n",
       "      <td>japanese culture is loaded with displays of re...</td>\n",
       "    </tr>\n",
       "    <tr>\n",
       "      <th>31497</th>\n",
       "      <td>how do women feel about a guy that likes to be...</td>\n",
       "      <td>least square adjustment cons</td>\n",
       "    </tr>\n",
       "    <tr>\n",
       "      <th>268239</th>\n",
       "      <td>why do you feel that the death penalty is  cru...</td>\n",
       "      <td>is the death penalty cruel and unusual punishment</td>\n",
       "    </tr>\n",
       "  </tbody>\n",
       "</table>\n",
       "</div>"
      ],
      "text/plain": [
       "                                                question1  \\\n",
       "180008                          what is make money online   \n",
       "247236  how can i start up a conversation with someone...   \n",
       "322746         why girls height matters in indian culture   \n",
       "31497   how do women feel about a guy that likes to be...   \n",
       "268239  why do you feel that the death penalty is  cru...   \n",
       "\n",
       "                                                question2  \n",
       "180008                 how can i earn money easily online  \n",
       "247236  i can not start a conversation with a girl bec...  \n",
       "322746  japanese culture is loaded with displays of re...  \n",
       "31497                        least square adjustment cons  \n",
       "268239  is the death penalty cruel and unusual punishment  "
      ]
     },
     "execution_count": 24,
     "metadata": {},
     "output_type": "execute_result"
    }
   ],
   "source": [
    "ques_df = new_df[[\"question1\",\"question2\"]]\n",
    "ques_df.head()"
   ]
  },
  {
   "cell_type": "code",
   "execution_count": 25,
   "id": "fb798180",
   "metadata": {
    "execution": {
     "iopub.execute_input": "2025-05-16T10:50:06.377045Z",
     "iopub.status.busy": "2025-05-16T10:50:06.376366Z",
     "iopub.status.idle": "2025-05-16T10:50:10.683206Z",
     "shell.execute_reply": "2025-05-16T10:50:10.682087Z"
    },
    "papermill": {
     "duration": 4.320452,
     "end_time": "2025-05-16T10:50:10.685239",
     "exception": false,
     "start_time": "2025-05-16T10:50:06.364787",
     "status": "completed"
    },
    "tags": []
   },
   "outputs": [],
   "source": [
    "from sklearn.feature_extraction.text import CountVectorizer\n",
    "\n",
    "questions = list(ques_df[\"question1\"]) + list(ques_df[\"question2\"])\n",
    "\n",
    "cv = CountVectorizer(max_features = 3000)\n",
    "\n",
    "q1_arr, q2_arr = np.vsplit(cv.fit_transform(questions).toarray(),2)"
   ]
  },
  {
   "cell_type": "code",
   "execution_count": 26,
   "id": "898cebec",
   "metadata": {
    "execution": {
     "iopub.execute_input": "2025-05-16T10:50:10.707946Z",
     "iopub.status.busy": "2025-05-16T10:50:10.707576Z",
     "iopub.status.idle": "2025-05-16T10:50:19.308200Z",
     "shell.execute_reply": "2025-05-16T10:50:19.307080Z"
    },
    "papermill": {
     "duration": 8.613917,
     "end_time": "2025-05-16T10:50:19.310108",
     "exception": false,
     "start_time": "2025-05-16T10:50:10.696191",
     "status": "completed"
    },
    "tags": []
   },
   "outputs": [
    {
     "data": {
      "text/plain": [
       "(70000, 6000)"
      ]
     },
     "execution_count": 26,
     "metadata": {},
     "output_type": "execute_result"
    }
   ],
   "source": [
    "temp_df1 = pd.DataFrame(q1_arr,index=ques_df.index)\n",
    "temp_df2 = pd.DataFrame(q2_arr,index=ques_df.index)\n",
    "temp_df = pd.concat([temp_df1,temp_df2],axis = 1)\n",
    "temp_df.shape"
   ]
  },
  {
   "cell_type": "code",
   "execution_count": 27,
   "id": "301e9548",
   "metadata": {
    "execution": {
     "iopub.execute_input": "2025-05-16T10:50:19.332324Z",
     "iopub.status.busy": "2025-05-16T10:50:19.331921Z",
     "iopub.status.idle": "2025-05-16T10:50:23.050206Z",
     "shell.execute_reply": "2025-05-16T10:50:23.049201Z"
    },
    "papermill": {
     "duration": 3.731317,
     "end_time": "2025-05-16T10:50:23.051964",
     "exception": false,
     "start_time": "2025-05-16T10:50:19.320647",
     "status": "completed"
    },
    "tags": []
   },
   "outputs": [
    {
     "name": "stdout",
     "output_type": "stream",
     "text": [
      "(70000, 6008)\n"
     ]
    },
    {
     "data": {
      "text/html": [
       "<div>\n",
       "<style scoped>\n",
       "    .dataframe tbody tr th:only-of-type {\n",
       "        vertical-align: middle;\n",
       "    }\n",
       "\n",
       "    .dataframe tbody tr th {\n",
       "        vertical-align: top;\n",
       "    }\n",
       "\n",
       "    .dataframe thead th {\n",
       "        text-align: right;\n",
       "    }\n",
       "</style>\n",
       "<table border=\"1\" class=\"dataframe\">\n",
       "  <thead>\n",
       "    <tr style=\"text-align: right;\">\n",
       "      <th></th>\n",
       "      <th>is_duplicate</th>\n",
       "      <th>q1_len</th>\n",
       "      <th>q2_len</th>\n",
       "      <th>q1_words</th>\n",
       "      <th>q2_words</th>\n",
       "      <th>word_common</th>\n",
       "      <th>word_total</th>\n",
       "      <th>word_share</th>\n",
       "      <th>0</th>\n",
       "      <th>1</th>\n",
       "      <th>...</th>\n",
       "      <th>2990</th>\n",
       "      <th>2991</th>\n",
       "      <th>2992</th>\n",
       "      <th>2993</th>\n",
       "      <th>2994</th>\n",
       "      <th>2995</th>\n",
       "      <th>2996</th>\n",
       "      <th>2997</th>\n",
       "      <th>2998</th>\n",
       "      <th>2999</th>\n",
       "    </tr>\n",
       "  </thead>\n",
       "  <tbody>\n",
       "    <tr>\n",
       "      <th>180008</th>\n",
       "      <td>1</td>\n",
       "      <td>25</td>\n",
       "      <td>34</td>\n",
       "      <td>5</td>\n",
       "      <td>7</td>\n",
       "      <td>2</td>\n",
       "      <td>12</td>\n",
       "      <td>0.17</td>\n",
       "      <td>0</td>\n",
       "      <td>0</td>\n",
       "      <td>...</td>\n",
       "      <td>0</td>\n",
       "      <td>0</td>\n",
       "      <td>0</td>\n",
       "      <td>0</td>\n",
       "      <td>0</td>\n",
       "      <td>0</td>\n",
       "      <td>0</td>\n",
       "      <td>0</td>\n",
       "      <td>0</td>\n",
       "      <td>0</td>\n",
       "    </tr>\n",
       "    <tr>\n",
       "      <th>247236</th>\n",
       "      <td>0</td>\n",
       "      <td>62</td>\n",
       "      <td>116</td>\n",
       "      <td>12</td>\n",
       "      <td>24</td>\n",
       "      <td>7</td>\n",
       "      <td>32</td>\n",
       "      <td>0.22</td>\n",
       "      <td>0</td>\n",
       "      <td>0</td>\n",
       "      <td>...</td>\n",
       "      <td>0</td>\n",
       "      <td>0</td>\n",
       "      <td>0</td>\n",
       "      <td>0</td>\n",
       "      <td>0</td>\n",
       "      <td>0</td>\n",
       "      <td>0</td>\n",
       "      <td>0</td>\n",
       "      <td>0</td>\n",
       "      <td>0</td>\n",
       "    </tr>\n",
       "    <tr>\n",
       "      <th>322746</th>\n",
       "      <td>0</td>\n",
       "      <td>42</td>\n",
       "      <td>240</td>\n",
       "      <td>7</td>\n",
       "      <td>44</td>\n",
       "      <td>3</td>\n",
       "      <td>44</td>\n",
       "      <td>0.07</td>\n",
       "      <td>0</td>\n",
       "      <td>0</td>\n",
       "      <td>...</td>\n",
       "      <td>0</td>\n",
       "      <td>0</td>\n",
       "      <td>0</td>\n",
       "      <td>0</td>\n",
       "      <td>0</td>\n",
       "      <td>0</td>\n",
       "      <td>0</td>\n",
       "      <td>0</td>\n",
       "      <td>0</td>\n",
       "      <td>0</td>\n",
       "    </tr>\n",
       "    <tr>\n",
       "      <th>31497</th>\n",
       "      <td>0</td>\n",
       "      <td>111</td>\n",
       "      <td>28</td>\n",
       "      <td>24</td>\n",
       "      <td>4</td>\n",
       "      <td>0</td>\n",
       "      <td>26</td>\n",
       "      <td>0.00</td>\n",
       "      <td>0</td>\n",
       "      <td>0</td>\n",
       "      <td>...</td>\n",
       "      <td>0</td>\n",
       "      <td>0</td>\n",
       "      <td>0</td>\n",
       "      <td>0</td>\n",
       "      <td>0</td>\n",
       "      <td>0</td>\n",
       "      <td>0</td>\n",
       "      <td>0</td>\n",
       "      <td>0</td>\n",
       "      <td>0</td>\n",
       "    </tr>\n",
       "    <tr>\n",
       "      <th>268239</th>\n",
       "      <td>1</td>\n",
       "      <td>70</td>\n",
       "      <td>49</td>\n",
       "      <td>14</td>\n",
       "      <td>8</td>\n",
       "      <td>7</td>\n",
       "      <td>22</td>\n",
       "      <td>0.32</td>\n",
       "      <td>0</td>\n",
       "      <td>0</td>\n",
       "      <td>...</td>\n",
       "      <td>0</td>\n",
       "      <td>0</td>\n",
       "      <td>0</td>\n",
       "      <td>0</td>\n",
       "      <td>0</td>\n",
       "      <td>0</td>\n",
       "      <td>0</td>\n",
       "      <td>0</td>\n",
       "      <td>0</td>\n",
       "      <td>0</td>\n",
       "    </tr>\n",
       "  </tbody>\n",
       "</table>\n",
       "<p>5 rows × 6008 columns</p>\n",
       "</div>"
      ],
      "text/plain": [
       "        is_duplicate  q1_len  q2_len  q1_words  q2_words  word_common  \\\n",
       "180008             1      25      34         5         7            2   \n",
       "247236             0      62     116        12        24            7   \n",
       "322746             0      42     240         7        44            3   \n",
       "31497              0     111      28        24         4            0   \n",
       "268239             1      70      49        14         8            7   \n",
       "\n",
       "        word_total  word_share  0  1  ...  2990  2991  2992  2993  2994  2995  \\\n",
       "180008          12        0.17  0  0  ...     0     0     0     0     0     0   \n",
       "247236          32        0.22  0  0  ...     0     0     0     0     0     0   \n",
       "322746          44        0.07  0  0  ...     0     0     0     0     0     0   \n",
       "31497           26        0.00  0  0  ...     0     0     0     0     0     0   \n",
       "268239          22        0.32  0  0  ...     0     0     0     0     0     0   \n",
       "\n",
       "        2996  2997  2998  2999  \n",
       "180008     0     0     0     0  \n",
       "247236     0     0     0     0  \n",
       "322746     0     0     0     0  \n",
       "31497      0     0     0     0  \n",
       "268239     0     0     0     0  \n",
       "\n",
       "[5 rows x 6008 columns]"
      ]
     },
     "execution_count": 27,
     "metadata": {},
     "output_type": "execute_result"
    }
   ],
   "source": [
    "final_df = pd.concat([final_df,temp_df],axis = 1)\n",
    "print(final_df.shape)\n",
    "final_df.head()"
   ]
  },
  {
   "cell_type": "code",
   "execution_count": 28,
   "id": "1fb741b5",
   "metadata": {
    "execution": {
     "iopub.execute_input": "2025-05-16T10:50:23.075147Z",
     "iopub.status.busy": "2025-05-16T10:50:23.074679Z",
     "iopub.status.idle": "2025-05-16T10:50:30.167012Z",
     "shell.execute_reply": "2025-05-16T10:50:30.165920Z"
    },
    "papermill": {
     "duration": 7.106249,
     "end_time": "2025-05-16T10:50:30.169100",
     "exception": false,
     "start_time": "2025-05-16T10:50:23.062851",
     "status": "completed"
    },
    "tags": []
   },
   "outputs": [],
   "source": [
    "from sklearn.model_selection import train_test_split\n",
    "X_train,X_test,y_train,y_test = train_test_split(final_df.iloc[:,1:].values,final_df.iloc[:,0].values,test_size=0.2,random_state=1)"
   ]
  },
  {
   "cell_type": "code",
   "execution_count": 29,
   "id": "cd0799d4",
   "metadata": {
    "execution": {
     "iopub.execute_input": "2025-05-16T10:50:30.191873Z",
     "iopub.status.busy": "2025-05-16T10:50:30.191489Z",
     "iopub.status.idle": "2025-05-16T10:51:13.323772Z",
     "shell.execute_reply": "2025-05-16T10:51:13.322926Z"
    },
    "papermill": {
     "duration": 43.156366,
     "end_time": "2025-05-16T10:51:13.336233",
     "exception": false,
     "start_time": "2025-05-16T10:50:30.179867",
     "status": "completed"
    },
    "tags": []
   },
   "outputs": [
    {
     "data": {
      "text/plain": [
       "0.7737142857142857"
      ]
     },
     "execution_count": 29,
     "metadata": {},
     "output_type": "execute_result"
    }
   ],
   "source": [
    "from xgboost import XGBClassifier\n",
    "from sklearn.metrics import accuracy_score\n",
    "xgb = XGBClassifier()\n",
    "xgb.fit(X_train,y_train)\n",
    "y_pred = xgb.predict(X_test)\n",
    "accuracy_score(y_test,y_pred)"
   ]
  },
  {
   "cell_type": "code",
   "execution_count": 30,
   "id": "d4afef11",
   "metadata": {
    "execution": {
     "iopub.execute_input": "2025-05-16T10:51:13.358711Z",
     "iopub.status.busy": "2025-05-16T10:51:13.358350Z",
     "iopub.status.idle": "2025-05-16T10:54:08.104198Z",
     "shell.execute_reply": "2025-05-16T10:54:08.102515Z"
    },
    "papermill": {
     "duration": 174.778574,
     "end_time": "2025-05-16T10:54:08.125378",
     "exception": false,
     "start_time": "2025-05-16T10:51:13.346804",
     "status": "completed"
    },
    "tags": []
   },
   "outputs": [
    {
     "data": {
      "text/plain": [
       "0.7825714285714286"
      ]
     },
     "execution_count": 30,
     "metadata": {},
     "output_type": "execute_result"
    }
   ],
   "source": [
    "from sklearn.ensemble import RandomForestClassifier\n",
    "from sklearn.metrics import accuracy_score\n",
    "rf = RandomForestClassifier()\n",
    "rf.fit(X_train,y_train)\n",
    "y_pred = rf.predict(X_test)\n",
    "accuracy_score(y_test,y_pred)"
   ]
  }
 ],
 "metadata": {
  "kaggle": {
   "accelerator": "none",
   "dataSources": [
    {
     "datasetId": 747,
     "sourceId": 1423,
     "sourceType": "datasetVersion"
    }
   ],
   "dockerImageVersionId": 30918,
   "isGpuEnabled": false,
   "isInternetEnabled": false,
   "language": "python",
   "sourceType": "notebook"
  },
  "kernelspec": {
   "display_name": "Python 3",
   "language": "python",
   "name": "python3"
  },
  "language_info": {
   "codemirror_mode": {
    "name": "ipython",
    "version": 3
   },
   "file_extension": ".py",
   "mimetype": "text/x-python",
   "name": "python",
   "nbconvert_exporter": "python",
   "pygments_lexer": "ipython3",
   "version": "3.10.12"
  },
  "papermill": {
   "default_parameters": {},
   "duration": 289.101636,
   "end_time": "2025-05-16T10:54:09.262761",
   "environment_variables": {},
   "exception": null,
   "input_path": "__notebook__.ipynb",
   "output_path": "__notebook__.ipynb",
   "parameters": {},
   "start_time": "2025-05-16T10:49:20.161125",
   "version": "2.6.0"
  }
 },
 "nbformat": 4,
 "nbformat_minor": 5
}
